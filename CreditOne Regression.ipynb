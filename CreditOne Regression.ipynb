{
 "cells": [
  {
   "cell_type": "code",
   "execution_count": 1,
   "id": "ea91827a",
   "metadata": {},
   "outputs": [],
   "source": [
    "import numpy as np\n",
    "import pandas as pd\n",
    "import scipy\n",
    "from math import sqrt\n",
    "import matplotlib.pyplot as plt\n",
    "\n",
    "#estimators\n",
    "from sklearn.ensemble import RandomForestRegressor\n",
    "from sklearn.linear_model import LinearRegression\n",
    "from sklearn.svm import SVR\n",
    "from sklearn import linear_model\n",
    "\n",
    "#model metrics\n",
    "from sklearn.metrics import mean_squared_error\n",
    "from sklearn.metrics import r2_score\n",
    "from sklearn.model_selection import cross_val_score\n",
    "\n",
    "#cross validation\n",
    "from sklearn.model_selection import train_test_split"
   ]
  },
  {
   "cell_type": "code",
   "execution_count": 2,
   "id": "5a3867b0",
   "metadata": {
    "scrolled": true
   },
   "outputs": [
    {
     "data": {
      "text/html": [
       "<div>\n",
       "<style scoped>\n",
       "    .dataframe tbody tr th:only-of-type {\n",
       "        vertical-align: middle;\n",
       "    }\n",
       "\n",
       "    .dataframe tbody tr th {\n",
       "        vertical-align: top;\n",
       "    }\n",
       "\n",
       "    .dataframe thead th {\n",
       "        text-align: right;\n",
       "    }\n",
       "</style>\n",
       "<table border=\"1\" class=\"dataframe\">\n",
       "  <thead>\n",
       "    <tr style=\"text-align: right;\">\n",
       "      <th></th>\n",
       "      <th>ID</th>\n",
       "      <th>LIMIT_BAL</th>\n",
       "      <th>SEX</th>\n",
       "      <th>MARRIAGE</th>\n",
       "      <th>AGE</th>\n",
       "      <th>PAY_0</th>\n",
       "      <th>PAY_2</th>\n",
       "      <th>PAY_3</th>\n",
       "      <th>PAY_4</th>\n",
       "      <th>PAY_5</th>\n",
       "      <th>...</th>\n",
       "      <th>PAY_AMT4</th>\n",
       "      <th>PAY_AMT5</th>\n",
       "      <th>PAY_AMT6</th>\n",
       "      <th>default payment next month</th>\n",
       "      <th>SEX_coded</th>\n",
       "      <th>Default_coded</th>\n",
       "      <th>EDUCATION_graduate school</th>\n",
       "      <th>EDUCATION_high school</th>\n",
       "      <th>EDUCATION_other</th>\n",
       "      <th>EDUCATION_university</th>\n",
       "    </tr>\n",
       "  </thead>\n",
       "  <tbody>\n",
       "    <tr>\n",
       "      <th>0</th>\n",
       "      <td>1.0</td>\n",
       "      <td>20000</td>\n",
       "      <td>female</td>\n",
       "      <td>1</td>\n",
       "      <td>24</td>\n",
       "      <td>2</td>\n",
       "      <td>2</td>\n",
       "      <td>-1</td>\n",
       "      <td>-1</td>\n",
       "      <td>-2</td>\n",
       "      <td>...</td>\n",
       "      <td>0</td>\n",
       "      <td>0</td>\n",
       "      <td>0</td>\n",
       "      <td>default</td>\n",
       "      <td>0</td>\n",
       "      <td>0</td>\n",
       "      <td>0</td>\n",
       "      <td>0</td>\n",
       "      <td>0</td>\n",
       "      <td>1</td>\n",
       "    </tr>\n",
       "    <tr>\n",
       "      <th>1</th>\n",
       "      <td>2.0</td>\n",
       "      <td>120000</td>\n",
       "      <td>female</td>\n",
       "      <td>2</td>\n",
       "      <td>26</td>\n",
       "      <td>-1</td>\n",
       "      <td>2</td>\n",
       "      <td>0</td>\n",
       "      <td>0</td>\n",
       "      <td>0</td>\n",
       "      <td>...</td>\n",
       "      <td>1000</td>\n",
       "      <td>0</td>\n",
       "      <td>2000</td>\n",
       "      <td>default</td>\n",
       "      <td>0</td>\n",
       "      <td>0</td>\n",
       "      <td>0</td>\n",
       "      <td>0</td>\n",
       "      <td>0</td>\n",
       "      <td>1</td>\n",
       "    </tr>\n",
       "    <tr>\n",
       "      <th>2</th>\n",
       "      <td>3.0</td>\n",
       "      <td>90000</td>\n",
       "      <td>female</td>\n",
       "      <td>2</td>\n",
       "      <td>34</td>\n",
       "      <td>0</td>\n",
       "      <td>0</td>\n",
       "      <td>0</td>\n",
       "      <td>0</td>\n",
       "      <td>0</td>\n",
       "      <td>...</td>\n",
       "      <td>1000</td>\n",
       "      <td>1000</td>\n",
       "      <td>5000</td>\n",
       "      <td>not default</td>\n",
       "      <td>0</td>\n",
       "      <td>1</td>\n",
       "      <td>0</td>\n",
       "      <td>0</td>\n",
       "      <td>0</td>\n",
       "      <td>1</td>\n",
       "    </tr>\n",
       "    <tr>\n",
       "      <th>3</th>\n",
       "      <td>4.0</td>\n",
       "      <td>50000</td>\n",
       "      <td>female</td>\n",
       "      <td>1</td>\n",
       "      <td>37</td>\n",
       "      <td>0</td>\n",
       "      <td>0</td>\n",
       "      <td>0</td>\n",
       "      <td>0</td>\n",
       "      <td>0</td>\n",
       "      <td>...</td>\n",
       "      <td>1100</td>\n",
       "      <td>1069</td>\n",
       "      <td>1000</td>\n",
       "      <td>not default</td>\n",
       "      <td>0</td>\n",
       "      <td>1</td>\n",
       "      <td>0</td>\n",
       "      <td>0</td>\n",
       "      <td>0</td>\n",
       "      <td>1</td>\n",
       "    </tr>\n",
       "    <tr>\n",
       "      <th>4</th>\n",
       "      <td>5.0</td>\n",
       "      <td>50000</td>\n",
       "      <td>male</td>\n",
       "      <td>1</td>\n",
       "      <td>57</td>\n",
       "      <td>-1</td>\n",
       "      <td>0</td>\n",
       "      <td>-1</td>\n",
       "      <td>0</td>\n",
       "      <td>0</td>\n",
       "      <td>...</td>\n",
       "      <td>9000</td>\n",
       "      <td>689</td>\n",
       "      <td>679</td>\n",
       "      <td>not default</td>\n",
       "      <td>1</td>\n",
       "      <td>1</td>\n",
       "      <td>0</td>\n",
       "      <td>0</td>\n",
       "      <td>0</td>\n",
       "      <td>1</td>\n",
       "    </tr>\n",
       "  </tbody>\n",
       "</table>\n",
       "<p>5 rows × 30 columns</p>\n",
       "</div>"
      ],
      "text/plain": [
       "    ID  LIMIT_BAL     SEX  MARRIAGE  AGE  PAY_0  PAY_2  PAY_3  PAY_4  PAY_5  \\\n",
       "0  1.0      20000  female         1   24      2      2     -1     -1     -2   \n",
       "1  2.0     120000  female         2   26     -1      2      0      0      0   \n",
       "2  3.0      90000  female         2   34      0      0      0      0      0   \n",
       "3  4.0      50000  female         1   37      0      0      0      0      0   \n",
       "4  5.0      50000    male         1   57     -1      0     -1      0      0   \n",
       "\n",
       "   ...  PAY_AMT4  PAY_AMT5  PAY_AMT6  default payment next month  SEX_coded  \\\n",
       "0  ...         0         0         0                     default          0   \n",
       "1  ...      1000         0      2000                     default          0   \n",
       "2  ...      1000      1000      5000                 not default          0   \n",
       "3  ...      1100      1069      1000                 not default          0   \n",
       "4  ...      9000       689       679                 not default          1   \n",
       "\n",
       "   Default_coded  EDUCATION_graduate school  EDUCATION_high school  \\\n",
       "0              0                          0                      0   \n",
       "1              0                          0                      0   \n",
       "2              1                          0                      0   \n",
       "3              1                          0                      0   \n",
       "4              1                          0                      0   \n",
       "\n",
       "   EDUCATION_other  EDUCATION_university  \n",
       "0                0                     1  \n",
       "1                0                     1  \n",
       "2                0                     1  \n",
       "3                0                     1  \n",
       "4                0                     1  \n",
       "\n",
       "[5 rows x 30 columns]"
      ]
     },
     "execution_count": 2,
     "metadata": {},
     "output_type": "execute_result"
    }
   ],
   "source": [
    "#Importing Data\n",
    "rawData = pd.read_csv('CreditOne_Data_updated.csv')\n",
    "rawData.head()"
   ]
  },
  {
   "cell_type": "code",
   "execution_count": 3,
   "id": "4e9276d7",
   "metadata": {},
   "outputs": [
    {
     "name": "stdout",
     "output_type": "stream",
     "text": [
      "<class 'pandas.core.frame.DataFrame'>\n",
      "RangeIndex: 29999 entries, 0 to 29998\n",
      "Data columns (total 30 columns):\n",
      " #   Column                      Non-Null Count  Dtype  \n",
      "---  ------                      --------------  -----  \n",
      " 0   ID                          29999 non-null  float64\n",
      " 1   LIMIT_BAL                   29999 non-null  int64  \n",
      " 2   SEX                         29999 non-null  object \n",
      " 3   MARRIAGE                    29999 non-null  int64  \n",
      " 4   AGE                         29999 non-null  int64  \n",
      " 5   PAY_0                       29999 non-null  int64  \n",
      " 6   PAY_2                       29999 non-null  int64  \n",
      " 7   PAY_3                       29999 non-null  int64  \n",
      " 8   PAY_4                       29999 non-null  int64  \n",
      " 9   PAY_5                       29999 non-null  int64  \n",
      " 10  PAY_6                       29999 non-null  int64  \n",
      " 11  BILL_AMT1                   29999 non-null  int64  \n",
      " 12  BILL_AMT2                   29999 non-null  int64  \n",
      " 13  BILL_AMT3                   29999 non-null  int64  \n",
      " 14  BILL_AMT4                   29999 non-null  int64  \n",
      " 15  BILL_AMT5                   29999 non-null  int64  \n",
      " 16  BILL_AMT6                   29999 non-null  int64  \n",
      " 17  PAY_AMT1                    29999 non-null  int64  \n",
      " 18  PAY_AMT2                    29999 non-null  int64  \n",
      " 19  PAY_AMT3                    29999 non-null  int64  \n",
      " 20  PAY_AMT4                    29999 non-null  int64  \n",
      " 21  PAY_AMT5                    29999 non-null  int64  \n",
      " 22  PAY_AMT6                    29999 non-null  int64  \n",
      " 23  default payment next month  29999 non-null  object \n",
      " 24  SEX_coded                   29999 non-null  int64  \n",
      " 25  Default_coded               29999 non-null  int64  \n",
      " 26  EDUCATION_graduate school   29999 non-null  int64  \n",
      " 27  EDUCATION_high school       29999 non-null  int64  \n",
      " 28  EDUCATION_other             29999 non-null  int64  \n",
      " 29  EDUCATION_university        29999 non-null  int64  \n",
      "dtypes: float64(1), int64(27), object(2)\n",
      "memory usage: 6.9+ MB\n"
     ]
    }
   ],
   "source": [
    "rawData.info()"
   ]
  },
  {
   "cell_type": "markdown",
   "id": "38e7328d",
   "metadata": {},
   "source": [
    "## Selecting features"
   ]
  },
  {
   "cell_type": "code",
   "execution_count": 4,
   "id": "ca04688a",
   "metadata": {},
   "outputs": [
    {
     "name": "stdout",
     "output_type": "stream",
     "text": [
      "Summary of feature sample\n"
     ]
    },
    {
     "data": {
      "text/html": [
       "<div>\n",
       "<style scoped>\n",
       "    .dataframe tbody tr th:only-of-type {\n",
       "        vertical-align: middle;\n",
       "    }\n",
       "\n",
       "    .dataframe tbody tr th {\n",
       "        vertical-align: top;\n",
       "    }\n",
       "\n",
       "    .dataframe thead th {\n",
       "        text-align: right;\n",
       "    }\n",
       "</style>\n",
       "<table border=\"1\" class=\"dataframe\">\n",
       "  <thead>\n",
       "    <tr style=\"text-align: right;\">\n",
       "      <th></th>\n",
       "      <th>LIMIT_BAL</th>\n",
       "      <th>MARRIAGE</th>\n",
       "      <th>AGE</th>\n",
       "      <th>PAY_0</th>\n",
       "      <th>PAY_2</th>\n",
       "      <th>PAY_3</th>\n",
       "      <th>PAY_4</th>\n",
       "      <th>PAY_5</th>\n",
       "      <th>PAY_6</th>\n",
       "      <th>BILL_AMT1</th>\n",
       "      <th>...</th>\n",
       "      <th>PAY_AMT2</th>\n",
       "      <th>PAY_AMT3</th>\n",
       "      <th>PAY_AMT4</th>\n",
       "      <th>PAY_AMT5</th>\n",
       "      <th>PAY_AMT6</th>\n",
       "      <th>SEX_coded</th>\n",
       "      <th>EDUCATION_graduate school</th>\n",
       "      <th>EDUCATION_high school</th>\n",
       "      <th>EDUCATION_other</th>\n",
       "      <th>EDUCATION_university</th>\n",
       "    </tr>\n",
       "  </thead>\n",
       "  <tbody>\n",
       "    <tr>\n",
       "      <th>0</th>\n",
       "      <td>20000</td>\n",
       "      <td>1</td>\n",
       "      <td>24</td>\n",
       "      <td>2</td>\n",
       "      <td>2</td>\n",
       "      <td>-1</td>\n",
       "      <td>-1</td>\n",
       "      <td>-2</td>\n",
       "      <td>-2</td>\n",
       "      <td>3913</td>\n",
       "      <td>...</td>\n",
       "      <td>689</td>\n",
       "      <td>0</td>\n",
       "      <td>0</td>\n",
       "      <td>0</td>\n",
       "      <td>0</td>\n",
       "      <td>0</td>\n",
       "      <td>0</td>\n",
       "      <td>0</td>\n",
       "      <td>0</td>\n",
       "      <td>1</td>\n",
       "    </tr>\n",
       "    <tr>\n",
       "      <th>1</th>\n",
       "      <td>120000</td>\n",
       "      <td>2</td>\n",
       "      <td>26</td>\n",
       "      <td>-1</td>\n",
       "      <td>2</td>\n",
       "      <td>0</td>\n",
       "      <td>0</td>\n",
       "      <td>0</td>\n",
       "      <td>2</td>\n",
       "      <td>2682</td>\n",
       "      <td>...</td>\n",
       "      <td>1000</td>\n",
       "      <td>1000</td>\n",
       "      <td>1000</td>\n",
       "      <td>0</td>\n",
       "      <td>2000</td>\n",
       "      <td>0</td>\n",
       "      <td>0</td>\n",
       "      <td>0</td>\n",
       "      <td>0</td>\n",
       "      <td>1</td>\n",
       "    </tr>\n",
       "    <tr>\n",
       "      <th>2</th>\n",
       "      <td>90000</td>\n",
       "      <td>2</td>\n",
       "      <td>34</td>\n",
       "      <td>0</td>\n",
       "      <td>0</td>\n",
       "      <td>0</td>\n",
       "      <td>0</td>\n",
       "      <td>0</td>\n",
       "      <td>0</td>\n",
       "      <td>29239</td>\n",
       "      <td>...</td>\n",
       "      <td>1500</td>\n",
       "      <td>1000</td>\n",
       "      <td>1000</td>\n",
       "      <td>1000</td>\n",
       "      <td>5000</td>\n",
       "      <td>0</td>\n",
       "      <td>0</td>\n",
       "      <td>0</td>\n",
       "      <td>0</td>\n",
       "      <td>1</td>\n",
       "    </tr>\n",
       "    <tr>\n",
       "      <th>3</th>\n",
       "      <td>50000</td>\n",
       "      <td>1</td>\n",
       "      <td>37</td>\n",
       "      <td>0</td>\n",
       "      <td>0</td>\n",
       "      <td>0</td>\n",
       "      <td>0</td>\n",
       "      <td>0</td>\n",
       "      <td>0</td>\n",
       "      <td>46990</td>\n",
       "      <td>...</td>\n",
       "      <td>2019</td>\n",
       "      <td>1200</td>\n",
       "      <td>1100</td>\n",
       "      <td>1069</td>\n",
       "      <td>1000</td>\n",
       "      <td>0</td>\n",
       "      <td>0</td>\n",
       "      <td>0</td>\n",
       "      <td>0</td>\n",
       "      <td>1</td>\n",
       "    </tr>\n",
       "    <tr>\n",
       "      <th>4</th>\n",
       "      <td>50000</td>\n",
       "      <td>1</td>\n",
       "      <td>57</td>\n",
       "      <td>-1</td>\n",
       "      <td>0</td>\n",
       "      <td>-1</td>\n",
       "      <td>0</td>\n",
       "      <td>0</td>\n",
       "      <td>0</td>\n",
       "      <td>8617</td>\n",
       "      <td>...</td>\n",
       "      <td>36681</td>\n",
       "      <td>10000</td>\n",
       "      <td>9000</td>\n",
       "      <td>689</td>\n",
       "      <td>679</td>\n",
       "      <td>1</td>\n",
       "      <td>0</td>\n",
       "      <td>0</td>\n",
       "      <td>0</td>\n",
       "      <td>1</td>\n",
       "    </tr>\n",
       "  </tbody>\n",
       "</table>\n",
       "<p>5 rows × 26 columns</p>\n",
       "</div>"
      ],
      "text/plain": [
       "   LIMIT_BAL  MARRIAGE  AGE  PAY_0  PAY_2  PAY_3  PAY_4  PAY_5  PAY_6  \\\n",
       "0      20000         1   24      2      2     -1     -1     -2     -2   \n",
       "1     120000         2   26     -1      2      0      0      0      2   \n",
       "2      90000         2   34      0      0      0      0      0      0   \n",
       "3      50000         1   37      0      0      0      0      0      0   \n",
       "4      50000         1   57     -1      0     -1      0      0      0   \n",
       "\n",
       "   BILL_AMT1  ...  PAY_AMT2  PAY_AMT3  PAY_AMT4  PAY_AMT5  PAY_AMT6  \\\n",
       "0       3913  ...       689         0         0         0         0   \n",
       "1       2682  ...      1000      1000      1000         0      2000   \n",
       "2      29239  ...      1500      1000      1000      1000      5000   \n",
       "3      46990  ...      2019      1200      1100      1069      1000   \n",
       "4       8617  ...     36681     10000      9000       689       679   \n",
       "\n",
       "   SEX_coded  EDUCATION_graduate school  EDUCATION_high school  \\\n",
       "0          0                          0                      0   \n",
       "1          0                          0                      0   \n",
       "2          0                          0                      0   \n",
       "3          0                          0                      0   \n",
       "4          1                          0                      0   \n",
       "\n",
       "   EDUCATION_other  EDUCATION_university  \n",
       "0                0                     1  \n",
       "1                0                     1  \n",
       "2                0                     1  \n",
       "3                0                     1  \n",
       "4                0                     1  \n",
       "\n",
       "[5 rows x 26 columns]"
      ]
     },
     "execution_count": 4,
     "metadata": {},
     "output_type": "execute_result"
    }
   ],
   "source": [
    "#Trying all features first as a baseline\n",
    "X = rawData.iloc[:, [1,3,4,5,6,7,8,9,10,11,12,13,14,15,16,17,18,19,20,21,22,24,26,27,28,29]]\n",
    "print('Summary of feature sample')\n",
    "X.head()"
   ]
  },
  {
   "cell_type": "code",
   "execution_count": 5,
   "id": "1045973a",
   "metadata": {},
   "outputs": [
    {
     "name": "stdout",
     "output_type": "stream",
     "text": [
      "0        0\n",
      "1        0\n",
      "2        1\n",
      "3        1\n",
      "4        1\n",
      "        ..\n",
      "29994    1\n",
      "29995    1\n",
      "29996    0\n",
      "29997    0\n",
      "29998    0\n",
      "Name: Default_coded, Length: 29999, dtype: int64\n"
     ]
    }
   ],
   "source": [
    "#dependent variable\n",
    "y = rawData['Default_coded']\n",
    "print(y)"
   ]
  },
  {
   "cell_type": "markdown",
   "id": "eec7f1ab",
   "metadata": {},
   "source": [
    "# Assessing Models recursively DV: Default"
   ]
  },
  {
   "cell_type": "code",
   "execution_count": 6,
   "id": "44976ce9",
   "metadata": {},
   "outputs": [],
   "source": [
    "algosClass = []"
   ]
  },
  {
   "cell_type": "code",
   "execution_count": 7,
   "id": "a89d529e",
   "metadata": {},
   "outputs": [],
   "source": [
    "algosClass.append(('Random Forest Regressor',RandomForestRegressor()))"
   ]
  },
  {
   "cell_type": "code",
   "execution_count": 8,
   "id": "fdfcb81e",
   "metadata": {},
   "outputs": [],
   "source": [
    "algosClass.append(('Linear Regression',LinearRegression()))"
   ]
  },
  {
   "cell_type": "code",
   "execution_count": 9,
   "id": "0144a23c",
   "metadata": {},
   "outputs": [],
   "source": [
    "algosClass.append(('Support Vector Regression',SVR()))"
   ]
  },
  {
   "cell_type": "code",
   "execution_count": 10,
   "id": "05b0c823",
   "metadata": {},
   "outputs": [],
   "source": [
    "results = []\n",
    "names = []\n",
    "for name, model in algosClass:\n",
    "    result = cross_val_score(model, X,y, cv=3, scoring='r2')\n",
    "    names.append(name)\n",
    "    results.append(result)"
   ]
  },
  {
   "cell_type": "code",
   "execution_count": 11,
   "id": "893f629d",
   "metadata": {},
   "outputs": [
    {
     "name": "stdout",
     "output_type": "stream",
     "text": [
      "Random Forest Regressor 0.182065907314963\n",
      "Linear Regression 0.12100255618952031\n",
      "Support Vector Regression -0.08517773416461538\n"
     ]
    }
   ],
   "source": [
    "for i in range(len(names)):\n",
    "    print(names[i], results[i].mean())"
   ]
  },
  {
   "cell_type": "markdown",
   "id": "f67f0e6c",
   "metadata": {},
   "source": [
    "## Choosing the best Model "
   ]
  },
  {
   "cell_type": "code",
   "execution_count": 12,
   "id": "cd3df235",
   "metadata": {},
   "outputs": [],
   "source": [
    "#Train/Test Split\n",
    "X_train, X_test, y_train, y_test = train_test_split(X,y, test_size=.30, random_state=123)"
   ]
  },
  {
   "cell_type": "code",
   "execution_count": 13,
   "id": "f5a68246",
   "metadata": {},
   "outputs": [],
   "source": [
    "#Random Forest Regressor is the best\n",
    "algo = RandomForestRegressor()\n",
    "model = algo.fit(X_train, y_train)\n",
    "predictions = model.predict(X_test)"
   ]
  },
  {
   "cell_type": "markdown",
   "id": "ac2021f5",
   "metadata": {},
   "source": [
    "### Evaluation"
   ]
  },
  {
   "cell_type": "code",
   "execution_count": 14,
   "id": "dfe65c52",
   "metadata": {},
   "outputs": [
    {
     "name": "stdout",
     "output_type": "stream",
     "text": [
      "R Squared: 0.187\n",
      "RMSE: 0.374\n"
     ]
    }
   ],
   "source": [
    "#Establishing the variable calculation of RMSE\n",
    "rmse = sqrt(mean_squared_error(y_test, predictions))\n",
    "\n",
    "#Establishing the variable calculating r2\n",
    "predRsquared = r2_score(y_test, predictions)\n",
    "\n",
    "print('R Squared: %.3f' % predRsquared)\n",
    "print('RMSE: %.3f' % rmse)"
   ]
  },
  {
   "cell_type": "markdown",
   "id": "5977d52d",
   "metadata": {},
   "source": [
    "### Plotting the Results "
   ]
  },
  {
   "cell_type": "code",
   "execution_count": 15,
   "id": "5489b14d",
   "metadata": {},
   "outputs": [
    {
     "data": {
      "image/png": "[encoded data removed]",
      "text/plain": [
       "<Figure size 432x288 with 1 Axes>"
      ]
     },
     "metadata": {
      "needs_background": "light"
     },
     "output_type": "display_data"
    }
   ],
   "source": [
    "plt.scatter(y_test, predictions, cmap='viridis', alpha = 0.5)\n",
    "plt.xlabel('Ground Truth')\n",
    "plt.ylabel('Predictions')\n",
    "plt.show()"
   ]
  },
  {
   "cell_type": "markdown",
   "id": "35796b4b",
   "metadata": {},
   "source": [
    "## Refining the features "
   ]
  },
  {
   "cell_type": "code",
   "execution_count": 16,
   "id": "01802fbe",
   "metadata": {},
   "outputs": [
    {
     "name": "stdout",
     "output_type": "stream",
     "text": [
      "Summary of feature sample\n"
     ]
    },
    {
     "data": {
      "text/html": [
       "<div>\n",
       "<style scoped>\n",
       "    .dataframe tbody tr th:only-of-type {\n",
       "        vertical-align: middle;\n",
       "    }\n",
       "\n",
       "    .dataframe tbody tr th {\n",
       "        vertical-align: top;\n",
       "    }\n",
       "\n",
       "    .dataframe thead th {\n",
       "        text-align: right;\n",
       "    }\n",
       "</style>\n",
       "<table border=\"1\" class=\"dataframe\">\n",
       "  <thead>\n",
       "    <tr style=\"text-align: right;\">\n",
       "      <th></th>\n",
       "      <th>LIMIT_BAL</th>\n",
       "      <th>MARRIAGE</th>\n",
       "      <th>AGE</th>\n",
       "      <th>PAY_0</th>\n",
       "      <th>PAY_2</th>\n",
       "      <th>PAY_3</th>\n",
       "      <th>PAY_4</th>\n",
       "      <th>PAY_5</th>\n",
       "      <th>PAY_6</th>\n",
       "      <th>SEX_coded</th>\n",
       "      <th>EDUCATION_graduate school</th>\n",
       "      <th>EDUCATION_high school</th>\n",
       "      <th>EDUCATION_other</th>\n",
       "      <th>EDUCATION_university</th>\n",
       "    </tr>\n",
       "  </thead>\n",
       "  <tbody>\n",
       "    <tr>\n",
       "      <th>0</th>\n",
       "      <td>20000</td>\n",
       "      <td>1</td>\n",
       "      <td>24</td>\n",
       "      <td>2</td>\n",
       "      <td>2</td>\n",
       "      <td>-1</td>\n",
       "      <td>-1</td>\n",
       "      <td>-2</td>\n",
       "      <td>-2</td>\n",
       "      <td>0</td>\n",
       "      <td>0</td>\n",
       "      <td>0</td>\n",
       "      <td>0</td>\n",
       "      <td>1</td>\n",
       "    </tr>\n",
       "    <tr>\n",
       "      <th>1</th>\n",
       "      <td>120000</td>\n",
       "      <td>2</td>\n",
       "      <td>26</td>\n",
       "      <td>-1</td>\n",
       "      <td>2</td>\n",
       "      <td>0</td>\n",
       "      <td>0</td>\n",
       "      <td>0</td>\n",
       "      <td>2</td>\n",
       "      <td>0</td>\n",
       "      <td>0</td>\n",
       "      <td>0</td>\n",
       "      <td>0</td>\n",
       "      <td>1</td>\n",
       "    </tr>\n",
       "    <tr>\n",
       "      <th>2</th>\n",
       "      <td>90000</td>\n",
       "      <td>2</td>\n",
       "      <td>34</td>\n",
       "      <td>0</td>\n",
       "      <td>0</td>\n",
       "      <td>0</td>\n",
       "      <td>0</td>\n",
       "      <td>0</td>\n",
       "      <td>0</td>\n",
       "      <td>0</td>\n",
       "      <td>0</td>\n",
       "      <td>0</td>\n",
       "      <td>0</td>\n",
       "      <td>1</td>\n",
       "    </tr>\n",
       "    <tr>\n",
       "      <th>3</th>\n",
       "      <td>50000</td>\n",
       "      <td>1</td>\n",
       "      <td>37</td>\n",
       "      <td>0</td>\n",
       "      <td>0</td>\n",
       "      <td>0</td>\n",
       "      <td>0</td>\n",
       "      <td>0</td>\n",
       "      <td>0</td>\n",
       "      <td>0</td>\n",
       "      <td>0</td>\n",
       "      <td>0</td>\n",
       "      <td>0</td>\n",
       "      <td>1</td>\n",
       "    </tr>\n",
       "    <tr>\n",
       "      <th>4</th>\n",
       "      <td>50000</td>\n",
       "      <td>1</td>\n",
       "      <td>57</td>\n",
       "      <td>-1</td>\n",
       "      <td>0</td>\n",
       "      <td>-1</td>\n",
       "      <td>0</td>\n",
       "      <td>0</td>\n",
       "      <td>0</td>\n",
       "      <td>1</td>\n",
       "      <td>0</td>\n",
       "      <td>0</td>\n",
       "      <td>0</td>\n",
       "      <td>1</td>\n",
       "    </tr>\n",
       "  </tbody>\n",
       "</table>\n",
       "</div>"
      ],
      "text/plain": [
       "   LIMIT_BAL  MARRIAGE  AGE  PAY_0  PAY_2  PAY_3  PAY_4  PAY_5  PAY_6  \\\n",
       "0      20000         1   24      2      2     -1     -1     -2     -2   \n",
       "1     120000         2   26     -1      2      0      0      0      2   \n",
       "2      90000         2   34      0      0      0      0      0      0   \n",
       "3      50000         1   37      0      0      0      0      0      0   \n",
       "4      50000         1   57     -1      0     -1      0      0      0   \n",
       "\n",
       "   SEX_coded  EDUCATION_graduate school  EDUCATION_high school  \\\n",
       "0          0                          0                      0   \n",
       "1          0                          0                      0   \n",
       "2          0                          0                      0   \n",
       "3          0                          0                      0   \n",
       "4          1                          0                      0   \n",
       "\n",
       "   EDUCATION_other  EDUCATION_university  \n",
       "0                0                     1  \n",
       "1                0                     1  \n",
       "2                0                     1  \n",
       "3                0                     1  \n",
       "4                0                     1  "
      ]
     },
     "execution_count": 16,
     "metadata": {},
     "output_type": "execute_result"
    }
   ],
   "source": [
    "#omitting features that showed very low correlations including bill amts & pmt amts\n",
    "X = rawData.iloc[:, [1,3,4,5,6,7,8,9,10,24,26,27,28,29]]\n",
    "#dependent variable\n",
    "y = rawData['Default_coded']\n",
    "\n",
    "print('Summary of feature sample')\n",
    "X.head()"
   ]
  },
  {
   "cell_type": "markdown",
   "id": "63b890c7",
   "metadata": {},
   "source": [
    "## Rerunning Model, DV: Default"
   ]
  },
  {
   "cell_type": "code",
   "execution_count": 17,
   "id": "7d51599d",
   "metadata": {},
   "outputs": [],
   "source": [
    "#Train/Test Split\n",
    "X_train, X_test, y_train, y_test = train_test_split(X,y, test_size=.25, random_state=123)"
   ]
  },
  {
   "cell_type": "code",
   "execution_count": 18,
   "id": "d5374151",
   "metadata": {},
   "outputs": [],
   "source": [
    "#Random Forest Regressor\n",
    "algo = RandomForestRegressor()\n",
    "model = algo.fit(X_train, y_train)\n",
    "predictions = model.predict(X_test)"
   ]
  },
  {
   "cell_type": "markdown",
   "id": "83b1f794",
   "metadata": {},
   "source": [
    "### Evaluation"
   ]
  },
  {
   "cell_type": "code",
   "execution_count": 19,
   "id": "48a1f7be",
   "metadata": {},
   "outputs": [
    {
     "name": "stdout",
     "output_type": "stream",
     "text": [
      "R Squared: 0.112\n",
      "RMSE: 0.389\n"
     ]
    }
   ],
   "source": [
    "#Establishing the variable calculation of RMSE\n",
    "rmse = sqrt(mean_squared_error(y_test, predictions))\n",
    "\n",
    "#Establishing the variable calculating r2\n",
    "predRsquared = r2_score(y_test, predictions)\n",
    "\n",
    "print('R Squared: %.3f' % predRsquared)\n",
    "print('RMSE: %.3f' % rmse)"
   ]
  },
  {
   "cell_type": "markdown",
   "id": "ca1b2667",
   "metadata": {},
   "source": [
    "No improvement"
   ]
  },
  {
   "cell_type": "markdown",
   "id": "94d4bfae",
   "metadata": {},
   "source": [
    "# Assessing Models recursively, DV: Limit Balance"
   ]
  },
  {
   "cell_type": "code",
   "execution_count": 20,
   "id": "d50f4934",
   "metadata": {},
   "outputs": [
    {
     "name": "stdout",
     "output_type": "stream",
     "text": [
      "Summary of feature sample\n"
     ]
    },
    {
     "data": {
      "text/html": [
       "<div>\n",
       "<style scoped>\n",
       "    .dataframe tbody tr th:only-of-type {\n",
       "        vertical-align: middle;\n",
       "    }\n",
       "\n",
       "    .dataframe tbody tr th {\n",
       "        vertical-align: top;\n",
       "    }\n",
       "\n",
       "    .dataframe thead th {\n",
       "        text-align: right;\n",
       "    }\n",
       "</style>\n",
       "<table border=\"1\" class=\"dataframe\">\n",
       "  <thead>\n",
       "    <tr style=\"text-align: right;\">\n",
       "      <th></th>\n",
       "      <th>MARRIAGE</th>\n",
       "      <th>AGE</th>\n",
       "      <th>PAY_0</th>\n",
       "      <th>PAY_2</th>\n",
       "      <th>PAY_3</th>\n",
       "      <th>PAY_4</th>\n",
       "      <th>PAY_5</th>\n",
       "      <th>PAY_6</th>\n",
       "      <th>BILL_AMT1</th>\n",
       "      <th>BILL_AMT2</th>\n",
       "      <th>...</th>\n",
       "      <th>PAY_AMT3</th>\n",
       "      <th>PAY_AMT4</th>\n",
       "      <th>PAY_AMT5</th>\n",
       "      <th>PAY_AMT6</th>\n",
       "      <th>SEX_coded</th>\n",
       "      <th>Default_coded</th>\n",
       "      <th>EDUCATION_graduate school</th>\n",
       "      <th>EDUCATION_high school</th>\n",
       "      <th>EDUCATION_other</th>\n",
       "      <th>EDUCATION_university</th>\n",
       "    </tr>\n",
       "  </thead>\n",
       "  <tbody>\n",
       "    <tr>\n",
       "      <th>0</th>\n",
       "      <td>1</td>\n",
       "      <td>24</td>\n",
       "      <td>2</td>\n",
       "      <td>2</td>\n",
       "      <td>-1</td>\n",
       "      <td>-1</td>\n",
       "      <td>-2</td>\n",
       "      <td>-2</td>\n",
       "      <td>3913</td>\n",
       "      <td>3102</td>\n",
       "      <td>...</td>\n",
       "      <td>0</td>\n",
       "      <td>0</td>\n",
       "      <td>0</td>\n",
       "      <td>0</td>\n",
       "      <td>0</td>\n",
       "      <td>0</td>\n",
       "      <td>0</td>\n",
       "      <td>0</td>\n",
       "      <td>0</td>\n",
       "      <td>1</td>\n",
       "    </tr>\n",
       "    <tr>\n",
       "      <th>1</th>\n",
       "      <td>2</td>\n",
       "      <td>26</td>\n",
       "      <td>-1</td>\n",
       "      <td>2</td>\n",
       "      <td>0</td>\n",
       "      <td>0</td>\n",
       "      <td>0</td>\n",
       "      <td>2</td>\n",
       "      <td>2682</td>\n",
       "      <td>1725</td>\n",
       "      <td>...</td>\n",
       "      <td>1000</td>\n",
       "      <td>1000</td>\n",
       "      <td>0</td>\n",
       "      <td>2000</td>\n",
       "      <td>0</td>\n",
       "      <td>0</td>\n",
       "      <td>0</td>\n",
       "      <td>0</td>\n",
       "      <td>0</td>\n",
       "      <td>1</td>\n",
       "    </tr>\n",
       "    <tr>\n",
       "      <th>2</th>\n",
       "      <td>2</td>\n",
       "      <td>34</td>\n",
       "      <td>0</td>\n",
       "      <td>0</td>\n",
       "      <td>0</td>\n",
       "      <td>0</td>\n",
       "      <td>0</td>\n",
       "      <td>0</td>\n",
       "      <td>29239</td>\n",
       "      <td>14027</td>\n",
       "      <td>...</td>\n",
       "      <td>1000</td>\n",
       "      <td>1000</td>\n",
       "      <td>1000</td>\n",
       "      <td>5000</td>\n",
       "      <td>0</td>\n",
       "      <td>1</td>\n",
       "      <td>0</td>\n",
       "      <td>0</td>\n",
       "      <td>0</td>\n",
       "      <td>1</td>\n",
       "    </tr>\n",
       "    <tr>\n",
       "      <th>3</th>\n",
       "      <td>1</td>\n",
       "      <td>37</td>\n",
       "      <td>0</td>\n",
       "      <td>0</td>\n",
       "      <td>0</td>\n",
       "      <td>0</td>\n",
       "      <td>0</td>\n",
       "      <td>0</td>\n",
       "      <td>46990</td>\n",
       "      <td>48233</td>\n",
       "      <td>...</td>\n",
       "      <td>1200</td>\n",
       "      <td>1100</td>\n",
       "      <td>1069</td>\n",
       "      <td>1000</td>\n",
       "      <td>0</td>\n",
       "      <td>1</td>\n",
       "      <td>0</td>\n",
       "      <td>0</td>\n",
       "      <td>0</td>\n",
       "      <td>1</td>\n",
       "    </tr>\n",
       "    <tr>\n",
       "      <th>4</th>\n",
       "      <td>1</td>\n",
       "      <td>57</td>\n",
       "      <td>-1</td>\n",
       "      <td>0</td>\n",
       "      <td>-1</td>\n",
       "      <td>0</td>\n",
       "      <td>0</td>\n",
       "      <td>0</td>\n",
       "      <td>8617</td>\n",
       "      <td>5670</td>\n",
       "      <td>...</td>\n",
       "      <td>10000</td>\n",
       "      <td>9000</td>\n",
       "      <td>689</td>\n",
       "      <td>679</td>\n",
       "      <td>1</td>\n",
       "      <td>1</td>\n",
       "      <td>0</td>\n",
       "      <td>0</td>\n",
       "      <td>0</td>\n",
       "      <td>1</td>\n",
       "    </tr>\n",
       "  </tbody>\n",
       "</table>\n",
       "<p>5 rows × 26 columns</p>\n",
       "</div>"
      ],
      "text/plain": [
       "   MARRIAGE  AGE  PAY_0  PAY_2  PAY_3  PAY_4  PAY_5  PAY_6  BILL_AMT1  \\\n",
       "0         1   24      2      2     -1     -1     -2     -2       3913   \n",
       "1         2   26     -1      2      0      0      0      2       2682   \n",
       "2         2   34      0      0      0      0      0      0      29239   \n",
       "3         1   37      0      0      0      0      0      0      46990   \n",
       "4         1   57     -1      0     -1      0      0      0       8617   \n",
       "\n",
       "   BILL_AMT2  ...  PAY_AMT3  PAY_AMT4  PAY_AMT5  PAY_AMT6  SEX_coded  \\\n",
       "0       3102  ...         0         0         0         0          0   \n",
       "1       1725  ...      1000      1000         0      2000          0   \n",
       "2      14027  ...      1000      1000      1000      5000          0   \n",
       "3      48233  ...      1200      1100      1069      1000          0   \n",
       "4       5670  ...     10000      9000       689       679          1   \n",
       "\n",
       "   Default_coded  EDUCATION_graduate school  EDUCATION_high school  \\\n",
       "0              0                          0                      0   \n",
       "1              0                          0                      0   \n",
       "2              1                          0                      0   \n",
       "3              1                          0                      0   \n",
       "4              1                          0                      0   \n",
       "\n",
       "   EDUCATION_other  EDUCATION_university  \n",
       "0                0                     1  \n",
       "1                0                     1  \n",
       "2                0                     1  \n",
       "3                0                     1  \n",
       "4                0                     1  \n",
       "\n",
       "[5 rows x 26 columns]"
      ]
     },
     "execution_count": 20,
     "metadata": {},
     "output_type": "execute_result"
    }
   ],
   "source": [
    "#Trying all features first as a baseline\n",
    "X = rawData.iloc[:, [3,4,5,6,7,8,9,10,11,12,13,14,15,16,17,18,19,20,21,22,24,25,26,27,28,29]]\n",
    "#dependent variable\n",
    "y = rawData['LIMIT_BAL']\n",
    "\n",
    "print('Summary of feature sample')\n",
    "X.head()"
   ]
  },
  {
   "cell_type": "code",
   "execution_count": 21,
   "id": "f61f4f92",
   "metadata": {},
   "outputs": [],
   "source": [
    "algosClass = []\n",
    "algosClass.append(('Random Forest Regressor',RandomForestRegressor()))\n",
    "algosClass.append(('Linear Regression',LinearRegression()))\n",
    "algosClass.append(('Support Vector Regression',SVR()))"
   ]
  },
  {
   "cell_type": "code",
   "execution_count": 22,
   "id": "f5753772",
   "metadata": {},
   "outputs": [],
   "source": [
    "results = []\n",
    "names = []\n",
    "for name, model in algosClass:\n",
    "    result = cross_val_score(model, X,y, cv=3, scoring='r2')\n",
    "    names.append(name)\n",
    "    results.append(result)"
   ]
  },
  {
   "cell_type": "code",
   "execution_count": 23,
   "id": "bf32a2a1",
   "metadata": {},
   "outputs": [
    {
     "name": "stdout",
     "output_type": "stream",
     "text": [
      "Random Forest Regressor 0.46719858692542715\n",
      "Linear Regression 0.35696061746451235\n",
      "Support Vector Regression -0.05033431622630332\n"
     ]
    }
   ],
   "source": [
    "for i in range(len(names)):\n",
    "    print(names[i], results[i].mean())"
   ]
  },
  {
   "cell_type": "markdown",
   "id": "ecfca33a",
   "metadata": {},
   "source": [
    "## Choosing the best Model "
   ]
  },
  {
   "cell_type": "code",
   "execution_count": 24,
   "id": "24c02b95",
   "metadata": {},
   "outputs": [],
   "source": [
    "#Train/Test Split\n",
    "X_train, X_test, y_train, y_test = train_test_split(X,y, test_size=.25, random_state=123)"
   ]
  },
  {
   "cell_type": "code",
   "execution_count": 25,
   "id": "6fb38922",
   "metadata": {},
   "outputs": [],
   "source": [
    "#Random Forest Regressor is the best\n",
    "algo = RandomForestRegressor()\n",
    "model = algo.fit(X_train, y_train)\n",
    "predictions = model.predict(X_test)"
   ]
  },
  {
   "cell_type": "markdown",
   "id": "6535b470",
   "metadata": {},
   "source": [
    "### Evaluation"
   ]
  },
  {
   "cell_type": "code",
   "execution_count": 26,
   "id": "f0bcd415",
   "metadata": {},
   "outputs": [
    {
     "name": "stdout",
     "output_type": "stream",
     "text": [
      "R Squared: 0.462\n",
      "RMSE: 93732.329\n"
     ]
    }
   ],
   "source": [
    "#Establishing the variable calculation of RMSE\n",
    "rmse = sqrt(mean_squared_error(y_test, predictions))\n",
    "\n",
    "#Establishing the variable calculating r2\n",
    "predRsquared = r2_score(y_test, predictions)\n",
    "\n",
    "print('R Squared: %.3f' % predRsquared)\n",
    "print('RMSE: %.3f' % rmse)"
   ]
  },
  {
   "cell_type": "markdown",
   "id": "61abe2e7",
   "metadata": {},
   "source": [
    "Better than Default as DV but needs to be improved"
   ]
  },
  {
   "cell_type": "markdown",
   "id": "b0488cfa",
   "metadata": {},
   "source": [
    "### Plotting the Results "
   ]
  },
  {
   "cell_type": "code",
   "execution_count": 28,
   "id": "63a9d2e2",
   "metadata": {},
   "outputs": [
    {
     "data": {
      "image/png": "[encoded data removed]",
      "text/plain": [
       "<Figure size 432x288 with 1 Axes>"
      ]
     },
     "metadata": {
      "needs_background": "light"
     },
     "output_type": "display_data"
    }
   ],
   "source": [
    "plt.scatter(y_test, predictions, cmap='viridis', alpha = 0.5)\n",
    "plt.xlabel('Ground Truth')\n",
    "plt.ylabel('Predictions')\n",
    "plt.show()"
   ]
  },
  {
   "cell_type": "markdown",
   "id": "c9b773a7",
   "metadata": {},
   "source": [
    "## Refining the features, DV: Limit Balance "
   ]
  },
  {
   "cell_type": "code",
   "execution_count": 29,
   "id": "deec19f0",
   "metadata": {},
   "outputs": [
    {
     "name": "stdout",
     "output_type": "stream",
     "text": [
      "<class 'pandas.core.frame.DataFrame'>\n",
      "RangeIndex: 29999 entries, 0 to 29998\n",
      "Data columns (total 30 columns):\n",
      " #   Column                      Non-Null Count  Dtype  \n",
      "---  ------                      --------------  -----  \n",
      " 0   ID                          29999 non-null  float64\n",
      " 1   LIMIT_BAL                   29999 non-null  int64  \n",
      " 2   SEX                         29999 non-null  object \n",
      " 3   MARRIAGE                    29999 non-null  int64  \n",
      " 4   AGE                         29999 non-null  int64  \n",
      " 5   PAY_0                       29999 non-null  int64  \n",
      " 6   PAY_2                       29999 non-null  int64  \n",
      " 7   PAY_3                       29999 non-null  int64  \n",
      " 8   PAY_4                       29999 non-null  int64  \n",
      " 9   PAY_5                       29999 non-null  int64  \n",
      " 10  PAY_6                       29999 non-null  int64  \n",
      " 11  BILL_AMT1                   29999 non-null  int64  \n",
      " 12  BILL_AMT2                   29999 non-null  int64  \n",
      " 13  BILL_AMT3                   29999 non-null  int64  \n",
      " 14  BILL_AMT4                   29999 non-null  int64  \n",
      " 15  BILL_AMT5                   29999 non-null  int64  \n",
      " 16  BILL_AMT6                   29999 non-null  int64  \n",
      " 17  PAY_AMT1                    29999 non-null  int64  \n",
      " 18  PAY_AMT2                    29999 non-null  int64  \n",
      " 19  PAY_AMT3                    29999 non-null  int64  \n",
      " 20  PAY_AMT4                    29999 non-null  int64  \n",
      " 21  PAY_AMT5                    29999 non-null  int64  \n",
      " 22  PAY_AMT6                    29999 non-null  int64  \n",
      " 23  default payment next month  29999 non-null  object \n",
      " 24  SEX_coded                   29999 non-null  int64  \n",
      " 25  Default_coded               29999 non-null  int64  \n",
      " 26  EDUCATION_graduate school   29999 non-null  int64  \n",
      " 27  EDUCATION_high school       29999 non-null  int64  \n",
      " 28  EDUCATION_other             29999 non-null  int64  \n",
      " 29  EDUCATION_university        29999 non-null  int64  \n",
      "dtypes: float64(1), int64(27), object(2)\n",
      "memory usage: 6.9+ MB\n"
     ]
    }
   ],
   "source": [
    "rawData.info()"
   ]
  },
  {
   "cell_type": "code",
   "execution_count": 30,
   "id": "fe27287d",
   "metadata": {},
   "outputs": [
    {
     "name": "stdout",
     "output_type": "stream",
     "text": [
      "Summary of feature sample\n"
     ]
    },
    {
     "data": {
      "text/html": [
       "<div>\n",
       "<style scoped>\n",
       "    .dataframe tbody tr th:only-of-type {\n",
       "        vertical-align: middle;\n",
       "    }\n",
       "\n",
       "    .dataframe tbody tr th {\n",
       "        vertical-align: top;\n",
       "    }\n",
       "\n",
       "    .dataframe thead th {\n",
       "        text-align: right;\n",
       "    }\n",
       "</style>\n",
       "<table border=\"1\" class=\"dataframe\">\n",
       "  <thead>\n",
       "    <tr style=\"text-align: right;\">\n",
       "      <th></th>\n",
       "      <th>MARRIAGE</th>\n",
       "      <th>AGE</th>\n",
       "      <th>PAY_0</th>\n",
       "      <th>PAY_2</th>\n",
       "      <th>PAY_3</th>\n",
       "      <th>PAY_4</th>\n",
       "      <th>PAY_5</th>\n",
       "      <th>PAY_6</th>\n",
       "      <th>BILL_AMT1</th>\n",
       "      <th>BILL_AMT2</th>\n",
       "      <th>...</th>\n",
       "      <th>PAY_AMT1</th>\n",
       "      <th>PAY_AMT2</th>\n",
       "      <th>PAY_AMT3</th>\n",
       "      <th>PAY_AMT4</th>\n",
       "      <th>PAY_AMT5</th>\n",
       "      <th>PAY_AMT6</th>\n",
       "      <th>Default_coded</th>\n",
       "      <th>EDUCATION_graduate school</th>\n",
       "      <th>EDUCATION_high school</th>\n",
       "      <th>EDUCATION_university</th>\n",
       "    </tr>\n",
       "  </thead>\n",
       "  <tbody>\n",
       "    <tr>\n",
       "      <th>0</th>\n",
       "      <td>1</td>\n",
       "      <td>24</td>\n",
       "      <td>2</td>\n",
       "      <td>2</td>\n",
       "      <td>-1</td>\n",
       "      <td>-1</td>\n",
       "      <td>-2</td>\n",
       "      <td>-2</td>\n",
       "      <td>3913</td>\n",
       "      <td>3102</td>\n",
       "      <td>...</td>\n",
       "      <td>0</td>\n",
       "      <td>689</td>\n",
       "      <td>0</td>\n",
       "      <td>0</td>\n",
       "      <td>0</td>\n",
       "      <td>0</td>\n",
       "      <td>0</td>\n",
       "      <td>0</td>\n",
       "      <td>0</td>\n",
       "      <td>1</td>\n",
       "    </tr>\n",
       "    <tr>\n",
       "      <th>1</th>\n",
       "      <td>2</td>\n",
       "      <td>26</td>\n",
       "      <td>-1</td>\n",
       "      <td>2</td>\n",
       "      <td>0</td>\n",
       "      <td>0</td>\n",
       "      <td>0</td>\n",
       "      <td>2</td>\n",
       "      <td>2682</td>\n",
       "      <td>1725</td>\n",
       "      <td>...</td>\n",
       "      <td>0</td>\n",
       "      <td>1000</td>\n",
       "      <td>1000</td>\n",
       "      <td>1000</td>\n",
       "      <td>0</td>\n",
       "      <td>2000</td>\n",
       "      <td>0</td>\n",
       "      <td>0</td>\n",
       "      <td>0</td>\n",
       "      <td>1</td>\n",
       "    </tr>\n",
       "    <tr>\n",
       "      <th>2</th>\n",
       "      <td>2</td>\n",
       "      <td>34</td>\n",
       "      <td>0</td>\n",
       "      <td>0</td>\n",
       "      <td>0</td>\n",
       "      <td>0</td>\n",
       "      <td>0</td>\n",
       "      <td>0</td>\n",
       "      <td>29239</td>\n",
       "      <td>14027</td>\n",
       "      <td>...</td>\n",
       "      <td>1518</td>\n",
       "      <td>1500</td>\n",
       "      <td>1000</td>\n",
       "      <td>1000</td>\n",
       "      <td>1000</td>\n",
       "      <td>5000</td>\n",
       "      <td>1</td>\n",
       "      <td>0</td>\n",
       "      <td>0</td>\n",
       "      <td>1</td>\n",
       "    </tr>\n",
       "    <tr>\n",
       "      <th>3</th>\n",
       "      <td>1</td>\n",
       "      <td>37</td>\n",
       "      <td>0</td>\n",
       "      <td>0</td>\n",
       "      <td>0</td>\n",
       "      <td>0</td>\n",
       "      <td>0</td>\n",
       "      <td>0</td>\n",
       "      <td>46990</td>\n",
       "      <td>48233</td>\n",
       "      <td>...</td>\n",
       "      <td>2000</td>\n",
       "      <td>2019</td>\n",
       "      <td>1200</td>\n",
       "      <td>1100</td>\n",
       "      <td>1069</td>\n",
       "      <td>1000</td>\n",
       "      <td>1</td>\n",
       "      <td>0</td>\n",
       "      <td>0</td>\n",
       "      <td>1</td>\n",
       "    </tr>\n",
       "    <tr>\n",
       "      <th>4</th>\n",
       "      <td>1</td>\n",
       "      <td>57</td>\n",
       "      <td>-1</td>\n",
       "      <td>0</td>\n",
       "      <td>-1</td>\n",
       "      <td>0</td>\n",
       "      <td>0</td>\n",
       "      <td>0</td>\n",
       "      <td>8617</td>\n",
       "      <td>5670</td>\n",
       "      <td>...</td>\n",
       "      <td>2000</td>\n",
       "      <td>36681</td>\n",
       "      <td>10000</td>\n",
       "      <td>9000</td>\n",
       "      <td>689</td>\n",
       "      <td>679</td>\n",
       "      <td>1</td>\n",
       "      <td>0</td>\n",
       "      <td>0</td>\n",
       "      <td>1</td>\n",
       "    </tr>\n",
       "  </tbody>\n",
       "</table>\n",
       "<p>5 rows × 24 columns</p>\n",
       "</div>"
      ],
      "text/plain": [
       "   MARRIAGE  AGE  PAY_0  PAY_2  PAY_3  PAY_4  PAY_5  PAY_6  BILL_AMT1  \\\n",
       "0         1   24      2      2     -1     -1     -2     -2       3913   \n",
       "1         2   26     -1      2      0      0      0      2       2682   \n",
       "2         2   34      0      0      0      0      0      0      29239   \n",
       "3         1   37      0      0      0      0      0      0      46990   \n",
       "4         1   57     -1      0     -1      0      0      0       8617   \n",
       "\n",
       "   BILL_AMT2  ...  PAY_AMT1  PAY_AMT2  PAY_AMT3  PAY_AMT4  PAY_AMT5  PAY_AMT6  \\\n",
       "0       3102  ...         0       689         0         0         0         0   \n",
       "1       1725  ...         0      1000      1000      1000         0      2000   \n",
       "2      14027  ...      1518      1500      1000      1000      1000      5000   \n",
       "3      48233  ...      2000      2019      1200      1100      1069      1000   \n",
       "4       5670  ...      2000     36681     10000      9000       689       679   \n",
       "\n",
       "   Default_coded  EDUCATION_graduate school  EDUCATION_high school  \\\n",
       "0              0                          0                      0   \n",
       "1              0                          0                      0   \n",
       "2              1                          0                      0   \n",
       "3              1                          0                      0   \n",
       "4              1                          0                      0   \n",
       "\n",
       "   EDUCATION_university  \n",
       "0                     1  \n",
       "1                     1  \n",
       "2                     1  \n",
       "3                     1  \n",
       "4                     1  \n",
       "\n",
       "[5 rows x 24 columns]"
      ]
     },
     "execution_count": 30,
     "metadata": {},
     "output_type": "execute_result"
    }
   ],
   "source": [
    "#omitting features that showed low correlations including sex(24) & education other(28)\n",
    "X = rawData.iloc[:, [3,4,5,6,7,8,9,10,11,12,13,14,15,16,17,18,19,20,21,22,25,26,27,29]]\n",
    "#dependent variable\n",
    "y = rawData['LIMIT_BAL']\n",
    "\n",
    "print('Summary of feature sample')\n",
    "X.head()"
   ]
  },
  {
   "cell_type": "markdown",
   "id": "141276bc",
   "metadata": {},
   "source": [
    "## Rerunning Model "
   ]
  },
  {
   "cell_type": "code",
   "execution_count": 31,
   "id": "97cacf10",
   "metadata": {},
   "outputs": [],
   "source": [
    "#Train/Test Split\n",
    "X_train, X_test, y_train, y_test = train_test_split(X,y, test_size=.25, random_state=123)"
   ]
  },
  {
   "cell_type": "code",
   "execution_count": 32,
   "id": "0042fee2",
   "metadata": {},
   "outputs": [],
   "source": [
    "#Random Forest Regressor\n",
    "algo = RandomForestRegressor()\n",
    "model = algo.fit(X_train, y_train)\n",
    "predictions = model.predict(X_test)"
   ]
  },
  {
   "cell_type": "markdown",
   "id": "05f790f1",
   "metadata": {},
   "source": [
    "### Evaluation"
   ]
  },
  {
   "cell_type": "code",
   "execution_count": 33,
   "id": "97bfaef7",
   "metadata": {},
   "outputs": [
    {
     "name": "stdout",
     "output_type": "stream",
     "text": [
      "R Squared: 0.463\n",
      "RMSE: 93652.125\n"
     ]
    }
   ],
   "source": [
    "#Establishing the variable calculation of RMSE\n",
    "rmse = sqrt(mean_squared_error(y_test, predictions))\n",
    "\n",
    "#Establishing the variable calculating r2\n",
    "predRsquared = r2_score(y_test, predictions)\n",
    "\n",
    "print('R Squared: %.3f' % predRsquared)\n",
    "print('RMSE: %.3f' % rmse)"
   ]
  },
  {
   "cell_type": "markdown",
   "id": "7a220d64",
   "metadata": {},
   "source": [
    "No improvement"
   ]
  },
  {
   "cell_type": "markdown",
   "id": "5553943d",
   "metadata": {},
   "source": [
    "# Checking if Classification is better than Regression"
   ]
  },
  {
   "cell_type": "markdown",
   "id": "53ee1daa",
   "metadata": {},
   "source": [
    "## Begin with Discritizing Limit Bal "
   ]
  },
  {
   "cell_type": "code",
   "execution_count": 34,
   "id": "3ba975b7",
   "metadata": {},
   "outputs": [
    {
     "data": {
      "text/plain": [
       "count     29999.000000\n",
       "mean     167456.571219\n",
       "std      129660.756640\n",
       "min       10000.000000\n",
       "25%       50000.000000\n",
       "50%      140000.000000\n",
       "75%      240000.000000\n",
       "max      800000.000000\n",
       "Name: LIMIT_BAL, dtype: float64"
      ]
     },
     "execution_count": 34,
     "metadata": {},
     "output_type": "execute_result"
    }
   ],
   "source": [
    "rawData['LIMIT_BAL'].describe()"
   ]
  },
  {
   "cell_type": "code",
   "execution_count": 35,
   "id": "b59758f6",
   "metadata": {},
   "outputs": [],
   "source": [
    "bins = (0, 100000, 200000, 400000, 800000)\n",
    "group_names = ['Low', 'Moderate', 'High', 'Very High']\n",
    "\n",
    "#Creating a new column called LIMIT_BAL_CAT\n",
    "rawData['LIMIT_BAL_CAT'] = pd.cut(rawData['LIMIT_BAL'], bins = bins, labels = group_names, ordered=True)"
   ]
  },
  {
   "cell_type": "code",
   "execution_count": 36,
   "id": "8ea87817",
   "metadata": {},
   "outputs": [
    {
     "data": {
      "text/plain": [
       "['Low', 'Moderate', 'Very High', 'High']\n",
       "Categories (4, object): ['Low' < 'Moderate' < 'High' < 'Very High']"
      ]
     },
     "execution_count": 36,
     "metadata": {},
     "output_type": "execute_result"
    }
   ],
   "source": [
    "rawData['LIMIT_BAL_CAT'].unique()"
   ]
  },
  {
   "cell_type": "code",
   "execution_count": 37,
   "id": "1d41524c",
   "metadata": {},
   "outputs": [
    {
     "data": {
      "image/png": "[encoded data removed]",
      "text/plain": [
       "<Figure size 432x288 with 1 Axes>"
      ]
     },
     "metadata": {
      "needs_background": "light"
     },
     "output_type": "display_data"
    }
   ],
   "source": [
    "#Distribution of limit balance categories\n",
    "plt.hist(rawData['LIMIT_BAL_CAT'])\n",
    "plt.show()"
   ]
  },
  {
   "cell_type": "markdown",
   "id": "f498c3a4",
   "metadata": {},
   "source": [
    "## Comparing Classification Models"
   ]
  },
  {
   "cell_type": "code",
   "execution_count": 38,
   "id": "7ef94247",
   "metadata": {},
   "outputs": [],
   "source": [
    "#SKLearn classification items\n",
    "from sklearn.metrics import accuracy_score, classification_report\n",
    "from sklearn.ensemble import RandomForestClassifier, GradientBoostingClassifier\n",
    "from sklearn.tree import DecisionTreeClassifier\n",
    "from sklearn.model_selection import cross_val_score\n",
    "from sklearn.tree import plot_tree"
   ]
  },
  {
   "cell_type": "code",
   "execution_count": 39,
   "id": "900e2a8e",
   "metadata": {},
   "outputs": [
    {
     "name": "stdout",
     "output_type": "stream",
     "text": [
      "<class 'pandas.core.frame.DataFrame'>\n",
      "RangeIndex: 29999 entries, 0 to 29998\n",
      "Data columns (total 31 columns):\n",
      " #   Column                      Non-Null Count  Dtype   \n",
      "---  ------                      --------------  -----   \n",
      " 0   ID                          29999 non-null  float64 \n",
      " 1   LIMIT_BAL                   29999 non-null  int64   \n",
      " 2   SEX                         29999 non-null  object  \n",
      " 3   MARRIAGE                    29999 non-null  int64   \n",
      " 4   AGE                         29999 non-null  int64   \n",
      " 5   PAY_0                       29999 non-null  int64   \n",
      " 6   PAY_2                       29999 non-null  int64   \n",
      " 7   PAY_3                       29999 non-null  int64   \n",
      " 8   PAY_4                       29999 non-null  int64   \n",
      " 9   PAY_5                       29999 non-null  int64   \n",
      " 10  PAY_6                       29999 non-null  int64   \n",
      " 11  BILL_AMT1                   29999 non-null  int64   \n",
      " 12  BILL_AMT2                   29999 non-null  int64   \n",
      " 13  BILL_AMT3                   29999 non-null  int64   \n",
      " 14  BILL_AMT4                   29999 non-null  int64   \n",
      " 15  BILL_AMT5                   29999 non-null  int64   \n",
      " 16  BILL_AMT6                   29999 non-null  int64   \n",
      " 17  PAY_AMT1                    29999 non-null  int64   \n",
      " 18  PAY_AMT2                    29999 non-null  int64   \n",
      " 19  PAY_AMT3                    29999 non-null  int64   \n",
      " 20  PAY_AMT4                    29999 non-null  int64   \n",
      " 21  PAY_AMT5                    29999 non-null  int64   \n",
      " 22  PAY_AMT6                    29999 non-null  int64   \n",
      " 23  default payment next month  29999 non-null  object  \n",
      " 24  SEX_coded                   29999 non-null  int64   \n",
      " 25  Default_coded               29999 non-null  int64   \n",
      " 26  EDUCATION_graduate school   29999 non-null  int64   \n",
      " 27  EDUCATION_high school       29999 non-null  int64   \n",
      " 28  EDUCATION_other             29999 non-null  int64   \n",
      " 29  EDUCATION_university        29999 non-null  int64   \n",
      " 30  LIMIT_BAL_CAT               29999 non-null  category\n",
      "dtypes: category(1), float64(1), int64(27), object(2)\n",
      "memory usage: 6.9+ MB\n"
     ]
    }
   ],
   "source": [
    "rawData.info()"
   ]
  },
  {
   "cell_type": "code",
   "execution_count": 40,
   "id": "115906c8",
   "metadata": {},
   "outputs": [],
   "source": [
    "X = rawData.iloc[:, [3,4,5,6,7,8,9,10,11,12,13,14,15,16,17,18,19,20,21,22,24,25,26,27,28,29]]\n",
    "y = rawData['LIMIT_BAL_CAT']\n",
    "X_train, X_test, y_train, y_test = train_test_split(X, y, test_size = .25, random_state = 123)"
   ]
  },
  {
   "cell_type": "code",
   "execution_count": 41,
   "id": "587590ea",
   "metadata": {},
   "outputs": [],
   "source": [
    "algos_Class = []\n",
    "algos_Class.append(('Random Forest Classifier', RandomForestClassifier()))\n",
    "algos_Class.append(('Decision Tree Classifier', DecisionTreeClassifier()))\n",
    "algos_Class.append(('Gradient Boosting Classifier', GradientBoostingClassifier()))"
   ]
  },
  {
   "cell_type": "code",
   "execution_count": 42,
   "id": "d781edd3",
   "metadata": {},
   "outputs": [],
   "source": [
    "results = []\n",
    "names = []\n",
    "for name, model in algos_Class:\n",
    "    result = cross_val_score(model, X,y, cv=3, scoring='accuracy')\n",
    "    names.append(name)\n",
    "    results.append(result)"
   ]
  },
  {
   "cell_type": "code",
   "execution_count": 43,
   "id": "aac98cc1",
   "metadata": {},
   "outputs": [
    {
     "name": "stdout",
     "output_type": "stream",
     "text": [
      "Random Forest Classifier 0.6211537653765377\n",
      "Decision Tree Classifier 0.5218505650565056\n",
      "Gradient Boosting Classifier 0.6274539920658732\n"
     ]
    }
   ],
   "source": [
    "for i in range(len(names)):\n",
    "    print(names[i],results[i].mean())"
   ]
  },
  {
   "cell_type": "markdown",
   "id": "e7fab370",
   "metadata": {},
   "source": [
    "Gradient Boosting Classifier is slightly better than Random Forest, however still not high enough accuracy"
   ]
  },
  {
   "cell_type": "markdown",
   "id": "559045be",
   "metadata": {},
   "source": [
    "## Choosing the best Classifier Model "
   ]
  },
  {
   "cell_type": "code",
   "execution_count": 44,
   "id": "8cb68665",
   "metadata": {},
   "outputs": [],
   "source": [
    "#Train/Test Split\n",
    "X_train, X_test, y_train, y_test = train_test_split(X,y, test_size=.25, random_state=123)"
   ]
  },
  {
   "cell_type": "code",
   "execution_count": 45,
   "id": "e07e7b45",
   "metadata": {},
   "outputs": [],
   "source": [
    "#Gradient Boosting Classifier is the best\n",
    "algo = GradientBoostingClassifier()\n",
    "model = algo.fit(X_train, y_train)\n",
    "predictions = model.predict(X_test)"
   ]
  },
  {
   "cell_type": "markdown",
   "id": "57c3ebf8",
   "metadata": {},
   "source": [
    "### Evaluation"
   ]
  },
  {
   "cell_type": "code",
   "execution_count": 47,
   "id": "ffb24774",
   "metadata": {},
   "outputs": [
    {
     "name": "stdout",
     "output_type": "stream",
     "text": [
      "              precision    recall  f1-score   support\n",
      "\n",
      "        High       0.51      0.60      0.55      1959\n",
      "         Low       0.73      0.86      0.79      3048\n",
      "    Moderate       0.54      0.40      0.46      2057\n",
      "   Very High       0.62      0.14      0.23       436\n",
      "\n",
      "    accuracy                           0.62      7500\n",
      "   macro avg       0.60      0.50      0.51      7500\n",
      "weighted avg       0.61      0.62      0.60      7500\n",
      "\n"
     ]
    }
   ],
   "source": [
    "print(classification_report(y_test, predictions))"
   ]
  },
  {
   "cell_type": "markdown",
   "id": "1e99e0f0",
   "metadata": {},
   "source": [
    "Low metrics and accuracy is not reliable enough"
   ]
  },
  {
   "cell_type": "code",
   "execution_count": 48,
   "id": "239ae1e1",
   "metadata": {},
   "outputs": [
    {
     "data": {
      "text/html": [
       "<div>\n",
       "<style scoped>\n",
       "    .dataframe tbody tr th:only-of-type {\n",
       "        vertical-align: middle;\n",
       "    }\n",
       "\n",
       "    .dataframe tbody tr th {\n",
       "        vertical-align: top;\n",
       "    }\n",
       "\n",
       "    .dataframe thead th {\n",
       "        text-align: right;\n",
       "    }\n",
       "</style>\n",
       "<table border=\"1\" class=\"dataframe\">\n",
       "  <thead>\n",
       "    <tr style=\"text-align: right;\">\n",
       "      <th></th>\n",
       "      <th>Variable_Name</th>\n",
       "      <th>Importance</th>\n",
       "    </tr>\n",
       "  </thead>\n",
       "  <tbody>\n",
       "    <tr>\n",
       "      <th>24</th>\n",
       "      <td>EDUCATION_other</td>\n",
       "      <td>0.000445</td>\n",
       "    </tr>\n",
       "    <tr>\n",
       "      <th>25</th>\n",
       "      <td>EDUCATION_university</td>\n",
       "      <td>0.000487</td>\n",
       "    </tr>\n",
       "    <tr>\n",
       "      <th>6</th>\n",
       "      <td>PAY_5</td>\n",
       "      <td>0.001115</td>\n",
       "    </tr>\n",
       "    <tr>\n",
       "      <th>0</th>\n",
       "      <td>MARRIAGE</td>\n",
       "      <td>0.002064</td>\n",
       "    </tr>\n",
       "    <tr>\n",
       "      <th>20</th>\n",
       "      <td>SEX_coded</td>\n",
       "      <td>0.004920</td>\n",
       "    </tr>\n",
       "    <tr>\n",
       "      <th>21</th>\n",
       "      <td>Default_coded</td>\n",
       "      <td>0.005815</td>\n",
       "    </tr>\n",
       "    <tr>\n",
       "      <th>7</th>\n",
       "      <td>PAY_6</td>\n",
       "      <td>0.010456</td>\n",
       "    </tr>\n",
       "    <tr>\n",
       "      <th>23</th>\n",
       "      <td>EDUCATION_high school</td>\n",
       "      <td>0.010718</td>\n",
       "    </tr>\n",
       "    <tr>\n",
       "      <th>11</th>\n",
       "      <td>BILL_AMT4</td>\n",
       "      <td>0.013599</td>\n",
       "    </tr>\n",
       "    <tr>\n",
       "      <th>5</th>\n",
       "      <td>PAY_4</td>\n",
       "      <td>0.015294</td>\n",
       "    </tr>\n",
       "    <tr>\n",
       "      <th>2</th>\n",
       "      <td>PAY_0</td>\n",
       "      <td>0.018412</td>\n",
       "    </tr>\n",
       "    <tr>\n",
       "      <th>10</th>\n",
       "      <td>BILL_AMT3</td>\n",
       "      <td>0.020486</td>\n",
       "    </tr>\n",
       "    <tr>\n",
       "      <th>15</th>\n",
       "      <td>PAY_AMT2</td>\n",
       "      <td>0.021590</td>\n",
       "    </tr>\n",
       "    <tr>\n",
       "      <th>18</th>\n",
       "      <td>PAY_AMT5</td>\n",
       "      <td>0.030176</td>\n",
       "    </tr>\n",
       "    <tr>\n",
       "      <th>13</th>\n",
       "      <td>BILL_AMT6</td>\n",
       "      <td>0.030484</td>\n",
       "    </tr>\n",
       "    <tr>\n",
       "      <th>22</th>\n",
       "      <td>EDUCATION_graduate school</td>\n",
       "      <td>0.033261</td>\n",
       "    </tr>\n",
       "    <tr>\n",
       "      <th>12</th>\n",
       "      <td>BILL_AMT5</td>\n",
       "      <td>0.034432</td>\n",
       "    </tr>\n",
       "    <tr>\n",
       "      <th>17</th>\n",
       "      <td>PAY_AMT4</td>\n",
       "      <td>0.035382</td>\n",
       "    </tr>\n",
       "    <tr>\n",
       "      <th>16</th>\n",
       "      <td>PAY_AMT3</td>\n",
       "      <td>0.045295</td>\n",
       "    </tr>\n",
       "    <tr>\n",
       "      <th>14</th>\n",
       "      <td>PAY_AMT1</td>\n",
       "      <td>0.058423</td>\n",
       "    </tr>\n",
       "    <tr>\n",
       "      <th>4</th>\n",
       "      <td>PAY_3</td>\n",
       "      <td>0.066020</td>\n",
       "    </tr>\n",
       "    <tr>\n",
       "      <th>9</th>\n",
       "      <td>BILL_AMT2</td>\n",
       "      <td>0.069144</td>\n",
       "    </tr>\n",
       "    <tr>\n",
       "      <th>19</th>\n",
       "      <td>PAY_AMT6</td>\n",
       "      <td>0.071710</td>\n",
       "    </tr>\n",
       "    <tr>\n",
       "      <th>3</th>\n",
       "      <td>PAY_2</td>\n",
       "      <td>0.099843</td>\n",
       "    </tr>\n",
       "    <tr>\n",
       "      <th>1</th>\n",
       "      <td>AGE</td>\n",
       "      <td>0.104362</td>\n",
       "    </tr>\n",
       "    <tr>\n",
       "      <th>8</th>\n",
       "      <td>BILL_AMT1</td>\n",
       "      <td>0.196069</td>\n",
       "    </tr>\n",
       "  </tbody>\n",
       "</table>\n",
       "</div>"
      ],
      "text/plain": [
       "                Variable_Name  Importance\n",
       "24            EDUCATION_other    0.000445\n",
       "25       EDUCATION_university    0.000487\n",
       "6                       PAY_5    0.001115\n",
       "0                    MARRIAGE    0.002064\n",
       "20                  SEX_coded    0.004920\n",
       "21              Default_coded    0.005815\n",
       "7                       PAY_6    0.010456\n",
       "23      EDUCATION_high school    0.010718\n",
       "11                  BILL_AMT4    0.013599\n",
       "5                       PAY_4    0.015294\n",
       "2                       PAY_0    0.018412\n",
       "10                  BILL_AMT3    0.020486\n",
       "15                   PAY_AMT2    0.021590\n",
       "18                   PAY_AMT5    0.030176\n",
       "13                  BILL_AMT6    0.030484\n",
       "22  EDUCATION_graduate school    0.033261\n",
       "12                  BILL_AMT5    0.034432\n",
       "17                   PAY_AMT4    0.035382\n",
       "16                   PAY_AMT3    0.045295\n",
       "14                   PAY_AMT1    0.058423\n",
       "4                       PAY_3    0.066020\n",
       "9                   BILL_AMT2    0.069144\n",
       "19                   PAY_AMT6    0.071710\n",
       "3                       PAY_2    0.099843\n",
       "1                         AGE    0.104362\n",
       "8                   BILL_AMT1    0.196069"
      ]
     },
     "execution_count": 48,
     "metadata": {},
     "output_type": "execute_result"
    }
   ],
   "source": [
    "#importances of variables sorted\n",
    "pd.DataFrame({'Variable_Name':X.columns,'Importance':model.feature_importances_}).sort_values('Importance')"
   ]
  },
  {
   "cell_type": "markdown",
   "id": "b8a1b4e1",
   "metadata": {},
   "source": [
    "## Visualizing the Decision Tree "
   ]
  },
  {
   "cell_type": "code",
   "execution_count": 49,
   "id": "a260465d",
   "metadata": {},
   "outputs": [],
   "source": [
    "algo = DecisionTreeClassifier(max_depth=3)\n",
    "model = algo.fit(X_train, y_train)\n",
    "preds = model.predict(X_test)"
   ]
  },
  {
   "cell_type": "code",
   "execution_count": 50,
   "id": "0fb963c4",
   "metadata": {},
   "outputs": [
    {
     "data": {
      "image/png": "[encoded data removed]",
      "text/plain": [
       "<Figure size 1800x720 with 1 Axes>"
      ]
     },
     "metadata": {
      "needs_background": "light"
     },
     "output_type": "display_data"
    }
   ],
   "source": [
    "fig = plt.figure(figsize=(25,10))\n",
    "tree = plot_tree(model, feature_names=X.columns, class_names=['Low','Moderate','High','Very High'], filled=True)"
   ]
  },
  {
   "cell_type": "markdown",
   "id": "a03ee767",
   "metadata": {},
   "source": [
    "demographics don't seem to have much effect on prediction"
   ]
  }
 ],
 "metadata": {
  "kernelspec": {
   "display_name": "Python 3 (ipykernel)",
   "language": "python",
   "name": "python3"
  },
  "language_info": {
   "codemirror_mode": {
    "name": "ipython",
    "version": 3
   },
   "file_extension": ".py",
   "mimetype": "text/x-python",
   "name": "python",
   "nbconvert_exporter": "python",
   "pygments_lexer": "ipython3",
   "version": "3.8.12"
  }
 },
 "nbformat": 4,
 "nbformat_minor": 5
}
